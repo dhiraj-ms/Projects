{
 "cells": [
  {
   "cell_type": "markdown",
   "metadata": {},
   "source": [
    "### Import the Required Modules"
   ]
  },
  {
   "cell_type": "code",
   "execution_count": 1,
   "metadata": {
    "_cell_guid": "b1076dfc-b9ad-4769-8c92-a6c4dae69d19",
    "_uuid": "8f2839f25d086af736a60e9eeb907d3b93b6e0e5"
   },
   "outputs": [
    {
     "name": "stderr",
     "output_type": "stream",
     "text": [
      "Using TensorFlow backend.\n"
     ]
    }
   ],
   "source": [
    "import os\n",
    "import math\n",
    "import numpy as np\n",
    "from scipy.io import loadmat\n",
    "import pandas as pd\n",
    "import matplotlib.pyplot as plt\n",
    "# from functools import partial\n",
    "# from bayes_opt import BayesianOptimization\n",
    "\n",
    "# Keras modules\n",
    "from keras.preprocessing.image import ImageDataGenerator, array_to_img, img_to_array, load_img\n",
    "from keras.utils import to_categorical\n",
    "from keras.models import Sequential\n",
    "from keras import optimizers, layers\n",
    "from keras.layers import Conv2D, MaxPooling2D\n",
    "from keras.layers.normalization import BatchNormalization\n",
    "from keras.layers import Dropout, Flatten, Dense"
   ]
  },
  {
   "cell_type": "markdown",
   "metadata": {},
   "source": [
    "### Load and Pre-process the Dataset"
   ]
  },
  {
   "cell_type": "code",
   "execution_count": 2,
   "metadata": {
    "_cell_guid": "79c7e3d0-c299-4dcb-8224-4455121ee9b0",
    "_uuid": "d629ff2d2480ee46fbb7e2d37f6b5fab8052498a"
   },
   "outputs": [
    {
     "name": "stdout",
     "output_type": "stream",
     "text": [
      "['Digit_Dataset_Full_Train_Labels.csv', 'Digit_Dataset_Full.mat', 'Digit_Dataset_Half.mat', 'Digit_Dataset_Half_Labels.csv', 'Digit_Dataset_Full_Test_Labels.csv']\n",
      "X_train_orig shape: (28, 28, 1, 9000)\n",
      "X_test_orig shape: (28, 28, 1, 1000)\n",
      "Y_train_orig shape: (9000,)\n",
      "Y_test_orig shape: (1000,) \n",
      "\n",
      "X_train shape: (9000, 28, 28, 1)\n",
      "X_test shape: (1000, 28, 28, 1)\n",
      "Y_train shape: (9000, 10)\n",
      "Y_test shape: (1000, 10)\n"
     ]
    }
   ],
   "source": [
    "print(os.listdir('../input/'))\n",
    "\n",
    "# Load the datasets\n",
    "sample_full_data = loadmat('../input/Digit_Dataset_Full.mat')\n",
    "label_train_data = pd.read_csv(\"../input/Digit_Dataset_Full_Train_Labels.csv\")\n",
    "label_test_data = pd.read_csv(\"../input/Digit_Dataset_Full_Test_Labels.csv\")\n",
    "\n",
    "# Get data from the datasets\n",
    "X_train_orig = sample_full_data['Image'][0, 0][0]\n",
    "X_test_orig = sample_full_data['Image'][0, 0][1]\n",
    "Y_train_orig = label_train_data.values[:, 0]\n",
    "Y_test_orig = label_test_data.values[:, 0]\n",
    "\n",
    "# Print details of the orignal data\n",
    "print(\"X_train_orig shape: \" + str(X_train_orig.shape))\n",
    "print(\"X_test_orig shape: \" + str(X_test_orig.shape))\n",
    "print(\"Y_train_orig shape: \" + str(Y_train_orig.shape))\n",
    "print(\"Y_test_orig shape: \" + str(Y_test_orig.shape), \"\\n\")\n",
    "\n",
    "# Reshape the input data for keras\n",
    "split_fraction = 0.9     # should be greater than 0.5\n",
    "train_set_len = math.ceil((X_train_orig.shape[3] + X_test_orig.shape[3]) * split_fraction)\n",
    "test_set_len = X_train_orig.shape[3] + X_test_orig.shape[3] - train_set_len\n",
    "X_train = np.zeros((train_set_len, X_train_orig.shape[0], X_train_orig.shape[1], X_train_orig.shape[2]))\n",
    "X_test = np.zeros((test_set_len, X_train_orig.shape[0], X_train_orig.shape[1], X_train_orig.shape[2]))\n",
    "Y_train = np.zeros((train_set_len, 1))\n",
    "Y_test = np.zeros((test_set_len, 1))\n",
    "\n",
    "# Split into train and test, by the given split fraction\n",
    "for i in range(train_set_len + test_set_len):\n",
    "    if i < train_set_len:\n",
    "        if i < X_train_orig.shape[3]:\n",
    "            X_train[i] = X_train_orig[:, :, :, i]\n",
    "            Y_train[i] = Y_train_orig[i]\n",
    "        else:\n",
    "            X_train[i] = X_test_orig[:, :, :, i - X_train_orig.shape[3]]\n",
    "            Y_train[i] = Y_test_orig[i - X_train_orig.shape[3]]\n",
    "        \n",
    "    else:\n",
    "        if i < X_train_orig.shape[3]:\n",
    "            X_test[i - train_set_len] = X_train_orig[:, :, :, i]\n",
    "            Y_test[i - train_set_len] = Y_train_orig[i]\n",
    "        else:\n",
    "            X_test[i - train_set_len] = X_test_orig[:, :, :, i - X_train_orig.shape[3]]\n",
    "            Y_test[i - train_set_len] = Y_test_orig[i - X_train_orig.shape[3]]\n",
    "\n",
    "# Convert the integer labels into one-hot\n",
    "Y_train = to_categorical(Y_train, num_classes=10, dtype='float32')\n",
    "Y_test = to_categorical(Y_test, num_classes=10, dtype='float32')\n",
    "\n",
    "# Print details of the reshaped data\n",
    "print(\"X_train shape: \" + str(X_train.shape))\n",
    "print(\"X_test shape: \" + str(X_test.shape))\n",
    "print(\"Y_train shape: \" + str(Y_train.shape))\n",
    "print(\"Y_test shape: \" + str(Y_test.shape))\n",
    "\n",
    "# Pickle the preprocessed dataset\n",
    "# file_name = [\"X_Digit_Train.data\", \"Y_Digit_Train.data\", \"X_Digit_Test.data\", \"Y_Digit_Test.data\"]\n",
    "# dataset = [X_train, Y_train, X_test, Y_test]\n",
    "# for i, j in enumerate(file_name):\n",
    "#     with open(j, 'wb') as fileObject:\n",
    "#         pickle.dump(dataset[i] ,fileObject)\n",
    "\n",
    "# Create an image generator class\n",
    "imgGentrain = ImageDataGenerator()\n",
    "imgGentest = ImageDataGenerator()\n",
    "\n",
    "train_batch = imgGentrain.flow(\n",
    "    x=X_train,\n",
    "    y=Y_train,\n",
    "    batch_size=32,\n",
    "    shuffle=True,\n",
    "    seed=1)\n",
    "test_batch = imgGentest.flow(\n",
    "    x=X_test,\n",
    "    y=Y_test,\n",
    "    batch_size=32,\n",
    "    shuffle=True,\n",
    "    seed=2)"
   ]
  },
  {
   "cell_type": "markdown",
   "metadata": {},
   "source": [
    "### Example of an Image"
   ]
  },
  {
   "cell_type": "code",
   "execution_count": 3,
   "metadata": {},
   "outputs": [
    {
     "name": "stdout",
     "output_type": "stream",
     "text": [
      "y = [0. 0. 0. 0. 1. 0. 0. 0. 0. 0.]\n"
     ]
    },
    {
     "data": {
      "image/png": "[encoded data removed]",
      "text/plain": [
       "<Figure size 432x288 with 1 Axes>"
      ]
     },
     "metadata": {},
     "output_type": "display_data"
    }
   ],
   "source": [
    "index = 3600    # just some random image for preview\n",
    "plt.imshow(X_train[index, :, :, 0])\n",
    "print(\"y = \" + str(np.squeeze(Y_train[index, :])))"
   ]
  },
  {
   "cell_type": "markdown",
   "metadata": {},
   "source": [
    "### Create a Model"
   ]
  },
  {
   "cell_type": "code",
   "execution_count": 4,
   "metadata": {},
   "outputs": [],
   "source": [
    "def create_model(lr=0.001, beta_1=0.9, dropout=False):\n",
    "    # Delete the previous model, if there exists any\n",
    "    try: del model\n",
    "    except: pass\n",
    "\n",
    "    # Create a new model\n",
    "    model = Sequential()\n",
    "\n",
    "    # Add a convolutional layer\n",
    "    model.add(Conv2D(filters=20, kernel_size=5, strides=(1, 1), padding='valid', input_shape=(28, 28, 1)))\n",
    "    model.add(layers.ReLU())\n",
    "    model.add(MaxPooling2D(pool_size=(2, 2), strides=(2, 2), padding='valid'))\n",
    "\n",
    "    # Add dropout, if dropout variable is set to True\n",
    "    if dropout: model.add(Dropout(rate=0.5))\n",
    "    \n",
    "    # Flatten the output\n",
    "    model.add(Flatten())\n",
    "\n",
    "    # Add a dense layer\n",
    "    model.add(Dense(10))\n",
    "    model.add(layers.Softmax())\n",
    "    optAdam = optimizers.Adam(lr=lr, beta_1=beta_1, beta_2=0.999, epsilon=None, decay=0.0, amsgrad=False)\n",
    "    model.compile(optimizer=optAdam,\n",
    "                  loss='categorical_crossentropy',\n",
    "                  metrics=['accuracy'])\n",
    "    return model"
   ]
  },
  {
   "cell_type": "markdown",
   "metadata": {},
   "source": [
    "### Compare Dropout Effect"
   ]
  },
  {
   "cell_type": "code",
   "execution_count": 5,
   "metadata": {},
   "outputs": [
    {
     "name": "stdout",
     "output_type": "stream",
     "text": [
      "WARNING:tensorflow:From /opt/conda/lib/python3.6/site-packages/tensorflow/python/framework/op_def_library.py:263: colocate_with (from tensorflow.python.framework.ops) is deprecated and will be removed in a future version.\n",
      "Instructions for updating:\n",
      "Colocations handled automatically by placer.\n",
      "WARNING:tensorflow:From /opt/conda/lib/python3.6/site-packages/keras/backend/tensorflow_backend.py:3445: calling dropout (from tensorflow.python.ops.nn_ops) with keep_prob is deprecated and will be removed in a future version.\n",
      "Instructions for updating:\n",
      "Please use `rate` instead of `keep_prob`. Rate should be set to `rate = 1 - keep_prob`.\n",
      "WARNING:tensorflow:From /opt/conda/lib/python3.6/site-packages/tensorflow/python/ops/math_ops.py:3066: to_int32 (from tensorflow.python.ops.math_ops) is deprecated and will be removed in a future version.\n",
      "Instructions for updating:\n",
      "Use tf.cast instead.\n",
      "Epoch 1/3\n",
      "282/282 [==============================] - 6s 20ms/step - loss: 7.9990 - acc: 0.3693\n",
      "Epoch 2/3\n",
      "282/282 [==============================] - 1s 5ms/step - loss: 0.9847 - acc: 0.7014\n",
      "Epoch 3/3\n",
      "282/282 [==============================] - 1s 5ms/step - loss: 0.4588 - acc: 0.8445\n",
      "Test loss: 0.14666560244560242\n",
      "Test accuracy: 0.956\n",
      "Accuracy when using dropout is 0.956 \n",
      "\n",
      "Epoch 1/3\n",
      "282/282 [==============================] - 2s 6ms/step - loss: 11.8319 - acc: 0.2500\n",
      "Epoch 2/3\n",
      "282/282 [==============================] - 1s 5ms/step - loss: 9.7031 - acc: 0.3849\n",
      "Epoch 3/3\n",
      "282/282 [==============================] - 1s 5ms/step - loss: 8.7062 - acc: 0.4478\n",
      "Test loss: 8.582340234692612\n",
      "Test accuracy: 0.45\n",
      "Accuracy when not using dropout is 0.45 \n",
      "\n"
     ]
    }
   ],
   "source": [
    "def fit_with(lr=0.001, beta_1=0.9, dropout=False):\n",
    "    # Create the model using a specified hyperparameters.\n",
    "    model = create_model(lr=lr, beta_1=beta_1, dropout=dropout)\n",
    "    \n",
    "    # Train the model with the train dataset.\n",
    "    model.fit_generator(\n",
    "        generator=train_batch,\n",
    "        steps_per_epoch=len(train_batch),\n",
    "        epochs=3)\n",
    "    \n",
    "    # print the test accuracy\n",
    "    score = model.evaluate(X_test, Y_test, verbose = 0)\n",
    "    print('Test loss:', score[0])\n",
    "    print('Test accuracy:', score[1])\n",
    "    \n",
    "    # return the test accuracy\n",
    "    return score[1]\n",
    "\n",
    "# Print the training results\n",
    "dropout_list = [True, False]\n",
    "for drop in dropout_list:\n",
    "    print(\"Accuracy when\", \"using\" if drop else \"not using\" ,\"dropout is\", fit_with(dropout=drop), \"\\n\")"
   ]
  },
  {
   "cell_type": "code",
   "execution_count": null,
   "metadata": {},
   "outputs": [],
   "source": []
  }
 ],
 "metadata": {
  "kernelspec": {
   "display_name": "Python 3",
   "language": "python",
   "name": "python3"
  },
  "language_info": {
   "codemirror_mode": {
    "name": "ipython",
    "version": 3
   },
   "file_extension": ".py",
   "mimetype": "text/x-python",
   "name": "python",
   "nbconvert_exporter": "python",
   "pygments_lexer": "ipython3",
   "version": "3.6.5"
  }
 },
 "nbformat": 4,
 "nbformat_minor": 1
}
